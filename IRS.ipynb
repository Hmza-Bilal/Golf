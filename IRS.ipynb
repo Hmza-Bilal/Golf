{
 "cells": [
  {
   "cell_type": "markdown",
   "metadata": {},
   "source": [
    "# Assignment 1 IRS"
   ]
  },
  {
   "cell_type": "markdown",
   "metadata": {},
   "source": [
    "Information retrieval is the process of obtaining information system resources that are relevant to an information need from a collection of those resources. The core purpose of this assignment is to give you the flavor of IRS. You need to follow some steps listed below and in the end, you'll be able to build your own small IRS. So, let's start."
   ]
  },
  {
   "cell_type": "code",
   "execution_count": 85,
   "metadata": {},
   "outputs": [],
   "source": [
    "# required imports\n",
    "import numpy as np\n",
    "import fnmatch\n"
   ]
  },
  {
   "cell_type": "markdown",
   "metadata": {},
   "source": [
    "Suppose we have 3 files containing data :"
   ]
  },
  {
   "cell_type": "markdown",
   "metadata": {},
   "source": [
    "### File Contents"
   ]
  },
  {
   "cell_type": "markdown",
   "metadata": {},
   "source": [
    "<img src=\"1.png\"/>\n",
    "<img src=\"2.png\"/>\n",
    "<img src=\"3.png\"/>"
   ]
  },
  {
   "cell_type": "markdown",
   "metadata": {},
   "source": [
    "# Step 1 Create Files with Dummy data"
   ]
  },
  {
   "cell_type": "markdown",
   "metadata": {},
   "source": [
    "You have to create few files with dummy data of your own choice as shown above."
   ]
  },
  {
   "cell_type": "markdown",
   "metadata": {},
   "source": [
    "# Step 2 Traverse Directories"
   ]
  },
  {
   "cell_type": "markdown",
   "metadata": {},
   "source": [
    " Now, You have to traverse the directories and store all the files into a dict type variable(files_dict). "
   ]
  },
  {
   "cell_type": "code",
   "execution_count": 86,
   "metadata": {},
   "outputs": [],
   "source": [
    "# Here we have intialized some variables, you can add more if required.\n",
    "file_count = 0             # file_count to count number of files\n",
    "files_dict = {}            # files_dic to store count of every file    \n",
    "unique_word_set = set()    # unique_word_set to store all the unique words in a set"
   ]
  },
  {
   "cell_type": "code",
   "execution_count": 87,
   "metadata": {},
   "outputs": [],
   "source": [
    "#Your code starts here   \n",
    "from pathlib import Path \n",
    "directory = \".\"\n",
    "files = Path(directory).glob('*.txt')\n",
    "i =0;\n",
    "for file in files:\n",
    "    files_dict[i] = file.name\n",
    "    file_count += 1\n",
    "    i += 1\n",
    "#Your code ends here       "
   ]
  },
  {
   "cell_type": "markdown",
   "metadata": {},
   "source": [
    "Displaying the count of files."
   ]
  },
  {
   "cell_type": "code",
   "execution_count": 88,
   "metadata": {},
   "outputs": [
    {
     "name": "stdout",
     "output_type": "stream",
     "text": [
      "\n",
      "Total Number  of files\n",
      " 3\n"
     ]
    }
   ],
   "source": [
    "print(\"\\nTotal Number  of files\\n\", file_count)"
   ]
  },
  {
   "cell_type": "markdown",
   "metadata": {},
   "source": [
    "Displaying Dictionary containing all files."
   ]
  },
  {
   "cell_type": "code",
   "execution_count": 89,
   "metadata": {},
   "outputs": [
    {
     "name": "stdout",
     "output_type": "stream",
     "text": [
      "\n",
      "Dictionary containing  files\n",
      " {0: 'f1.txt', 1: 'f2.txt', 2: 'f3.txt'}\n"
     ]
    }
   ],
   "source": [
    "print(\"\\nDictionary containing  files\\n\", files_dict)"
   ]
  },
  {
   "cell_type": "markdown",
   "metadata": {},
   "source": [
    "# Step 3 Extract Unique Vocabulary"
   ]
  },
  {
   "cell_type": "code",
   "execution_count": 90,
   "metadata": {},
   "outputs": [],
   "source": [
    "# write code to print all the unique words in every file and store them in a set"
   ]
  },
  {
   "cell_type": "code",
   "execution_count": 100,
   "metadata": {},
   "outputs": [
    {
     "name": "stdout",
     "output_type": "stream",
     "text": [
      "{'this', 'book', 'is', 'pen', 'interesting', 'my'}\n"
     ]
    }
   ],
   "source": [
    "#Your code starts here\n",
    "non_unique_words = []\n",
    "for file in files_dict:\n",
    "    with open(files_dict[file],\"r\") as file:\n",
    "        for line in file:\n",
    "            for word in line.split():\n",
    "                non_unique_words.append(word.lower())\n",
    "                unique_word_set.add(word.lower())\n",
    "print(unique_word_set)\n",
    "#Your code ends here"
   ]
  },
  {
   "cell_type": "markdown",
   "metadata": {},
   "source": [
    "### Expected Output"
   ]
  },
  {
   "cell_type": "markdown",
   "metadata": {},
   "source": [
    "<img src=\"4.png\"/>"
   ]
  },
  {
   "cell_type": "markdown",
   "metadata": {},
   "source": [
    "# Step 4 Create Term Document Matrix"
   ]
  },
  {
   "cell_type": "markdown",
   "metadata": {},
   "source": [
    "Create Term-Doc-matrix using Bag of word approach.and display its contents initially and finally."
   ]
  },
  {
   "cell_type": "code",
   "execution_count": 92,
   "metadata": {},
   "outputs": [],
   "source": [
    "# Create Term doc matrix such that colmns will be unique words and all the files will be rows\n",
    "# Write code to count all the unique words appearances in all the files and store it in a dictionary for words "
   ]
  },
  {
   "cell_type": "code",
   "execution_count": 101,
   "metadata": {},
   "outputs": [
    {
     "name": "stdout",
     "output_type": "stream",
     "text": [
      "Dictionary of Unique Words With Appearance Count :\n",
      "\n",
      "{'this': 2, 'book': 2, 'is': 3, 'pen': 1, 'interesting': 1, 'my': 3}\n",
      "\n",
      "Dictionary of Files: \n",
      "\n",
      "{0: 'f1.txt', 1: 'f2.txt', 2: 'f3.txt'}\n"
     ]
    }
   ],
   "source": [
    "#Your code starts here\n",
    "TermDocMatrix = np.zeros((file_count,len(unique_word_set)))\n",
    "unique_word_dict = {}\n",
    "def getappearancecount(a):\n",
    "    appearance_count = 0\n",
    "    for word in non_unique_words:\n",
    "        if(a == word):\n",
    "            appearance_count +=1\n",
    "    return appearance_count\n",
    "temp =0\n",
    "for word in unique_word_set:\n",
    "    temp = getappearancecount(word)\n",
    "    unique_word_dict[word] = temp\n",
    "print(\"Dictionary of Unique Words With Appearance Count :\\n\")\n",
    "print(unique_word_dict)\n",
    "print(\"\\nDictionary of Files: \\n\")\n",
    "print(files_dict)\n",
    "#Your code ends here"
   ]
  },
  {
   "cell_type": "markdown",
   "metadata": {},
   "source": [
    "### Expected Output"
   ]
  },
  {
   "cell_type": "markdown",
   "metadata": {},
   "source": [
    "<img src=\"5.png\"/>"
   ]
  },
  {
   "cell_type": "markdown",
   "metadata": {},
   "source": [
    "# Step 5 Fill Term Document Matrix"
   ]
  },
  {
   "cell_type": "code",
   "execution_count": 75,
   "metadata": {},
   "outputs": [],
   "source": [
    "# Fill the term doc matrix by checking if the unique word exists in a file or not\n",
    "# If it exists then substitute a 1 in term_doc_matrix (eg : TERM_DOC_MATRIX[file][word] = 1 ) \n",
    "# Do the same for all the files present in the directory"
   ]
  },
  {
   "cell_type": "code",
   "execution_count": 99,
   "metadata": {},
   "outputs": [
    {
     "name": "stdout",
     "output_type": "stream",
     "text": [
      "TERM DOC MATRIX After Filling :\n",
      "\n",
      "[[0. 1. 1. 0. 0. 1.]\n",
      " [0. 0. 1. 1. 0. 1.]\n",
      " [0. 1. 1. 0. 1. 0.]]\n"
     ]
    }
   ],
   "source": [
    "#Your code starts here \n",
    "r = 0\n",
    "def isExist(a,f):\n",
    "    with open(f,\"r\") as file:\n",
    "        for line in file:\n",
    "            for word in line.split():\n",
    "                if(a == word):\n",
    "                    return True\n",
    "    return False\n",
    "for file in files_dict:\n",
    "    c = 0\n",
    "    for word in unique_word_set:\n",
    "        if(isExist(word,files_dict[file])):\n",
    "            TermDocMatrix[r][c] = 1\n",
    "        c += 1\n",
    "    r += 1\n",
    "print(\"TERM DOC MATRIX After Filling :\\n\")\n",
    "print(TermDocMatrix)\n",
    "#Your code ends here"
   ]
  },
  {
   "cell_type": "markdown",
   "metadata": {},
   "source": [
    "### Expected Output"
   ]
  },
  {
   "cell_type": "markdown",
   "metadata": {},
   "source": [
    "<img src=\"6.png\"/>"
   ]
  },
  {
   "cell_type": "markdown",
   "metadata": {},
   "source": [
    "# Step 6 Ask for a user Query"
   ]
  },
  {
   "cell_type": "code",
   "execution_count": 77,
   "metadata": {},
   "outputs": [],
   "source": [
    "# For user query make a column vector of length of all the unique words present in a set"
   ]
  },
  {
   "cell_type": "code",
   "execution_count": 78,
   "metadata": {},
   "outputs": [
    {
     "name": "stdout",
     "output_type": "stream",
     "text": [
      "[[0.]\n",
      " [0.]\n",
      " [0.]\n",
      " [0.]\n",
      " [0.]\n",
      " [0.]\n",
      " [0.]]\n"
     ]
    }
   ],
   "source": [
    "#Your code starts here    \n",
    "v = np.zeros((len(unique_word_set),1))\n",
    "print(v)\n",
    "#Your code ends here"
   ]
  },
  {
   "cell_type": "markdown",
   "metadata": {},
   "source": [
    "### Expected Output"
   ]
  },
  {
   "cell_type": "markdown",
   "metadata": {},
   "source": [
    "<img src=\"7.png\"/>"
   ]
  },
  {
   "cell_type": "code",
   "execution_count": 79,
   "metadata": {},
   "outputs": [
    {
     "name": "stdout",
     "output_type": "stream",
     "text": [
      "\n",
      "Write something for searching  This book is Good\n"
     ]
    }
   ],
   "source": [
    "query = input(\"\\nWrite something for searching  \")\n",
    "# Check every word of query if it exists in the set of unique words or not\n",
    "# If exixts then increment the count of that word in word dictionary\n",
    "tt = query.split()\n",
    "for t in tt:\n",
    "    row = 0\n",
    "    for word in unique_word_set:\n",
    "        if(t == word):\n",
    "            v[row][0] = v[row][0] + 1\n",
    "        row += 1"
   ]
  },
  {
   "cell_type": "markdown",
   "metadata": {},
   "source": [
    "### Expected Output"
   ]
  },
  {
   "cell_type": "markdown",
   "metadata": {},
   "source": [
    "<img src=\"8.png\"/>"
   ]
  },
  {
   "cell_type": "markdown",
   "metadata": {},
   "source": [
    "# Step 7 Display Resultant Vector"
   ]
  },
  {
   "cell_type": "markdown",
   "metadata": {},
   "source": [
    "Display \n",
    "1. Resultant vector.\n",
    "2. Max value in resultant vector.\n",
    "3. Index of max value in resultant vector.\n"
   ]
  },
  {
   "cell_type": "code",
   "execution_count": 80,
   "metadata": {},
   "outputs": [
    {
     "name": "stdout",
     "output_type": "stream",
     "text": [
      "[[1.]\n",
      " [0.]\n",
      " [1.]\n",
      " [1.]\n",
      " [0.]\n",
      " [0.]\n",
      " [0.]]\n",
      "Maximum in Resultant is  1.0\n",
      "\n",
      " Index of maximum in resultant is  0\n"
     ]
    }
   ],
   "source": [
    "#Your code starts here  \n",
    "print(v)\n",
    "largest = v[0][0]\n",
    "max_index = 0\n",
    "for i in range(len(v)):\n",
    "    if(v[i][0] > largest):\n",
    "        largest = v[i][0]\n",
    "        max_index = i\n",
    "print(\"Maximum in Resultant is \", largest)\n",
    "print(\"\\n Index of maximum in resultant is \", max_index)\n",
    "#Your code ends here"
   ]
  },
  {
   "cell_type": "markdown",
   "metadata": {},
   "source": [
    "### Expected Output"
   ]
  },
  {
   "cell_type": "markdown",
   "metadata": {},
   "source": [
    "<img src=\"9.png\"/>"
   ]
  },
  {
   "cell_type": "markdown",
   "metadata": {},
   "source": [
    "# Step 8 Display the contents of file\n"
   ]
  },
  {
   "cell_type": "code",
   "execution_count": 81,
   "metadata": {},
   "outputs": [],
   "source": [
    "#Write the code to identify the file_name having maximum value in the resultant vector and display its contents."
   ]
  },
  {
   "cell_type": "code",
   "execution_count": 82,
   "metadata": {},
   "outputs": [
    {
     "name": "stdout",
     "output_type": "stream",
     "text": [
      "f1.txt\n",
      "This is my book\n"
     ]
    }
   ],
   "source": [
    "#Your code starts here\n",
    "itr = 0\n",
    "max_val_word = \"\"\n",
    "for val in unique_word_set:\n",
    "    if(itr == max_index):\n",
    "        max_value_word = val\n",
    "        break\n",
    "    itr += 1\n",
    "#print(max_value_word)\n",
    "\n",
    "max_value_word_Arr = []\n",
    "for file in files_dict:\n",
    "    with open(files_dict[file],\"r\") as f:\n",
    "        count = 0\n",
    "        for line in f:\n",
    "            for word in line.split():\n",
    "                if(word == max_value_word):\n",
    "                    count += 1\n",
    "        max_value_word_Arr.append(count)\n",
    "m_index = 0\n",
    "m_value = max_value_word_Arr[0]\n",
    "for j in range(len(max_value_word_Arr)):\n",
    "    if(max_value_word_Arr[j] > m_value):\n",
    "        m_value = max_value_word_Arr[j]\n",
    "        m_index = j\n",
    "max_value_filename = files_dict[m_index]\n",
    "print(max_value_filename)\n",
    "with open(max_value_filename,\"r\") as max_val_f:\n",
    "    for line in max_val_f:\n",
    "        print(line)\n",
    "#Your code ends here"
   ]
  },
  {
   "cell_type": "markdown",
   "metadata": {},
   "source": [
    "Congratulations Now you are able to build your own small IRS."
   ]
  },
  {
   "cell_type": "code",
   "execution_count": null,
   "metadata": {},
   "outputs": [],
   "source": []
  },
  {
   "cell_type": "code",
   "execution_count": null,
   "metadata": {},
   "outputs": [],
   "source": []
  },
  {
   "cell_type": "code",
   "execution_count": null,
   "metadata": {},
   "outputs": [],
   "source": []
  }
 ],
 "metadata": {
  "kernelspec": {
   "display_name": "Python 3",
   "language": "python",
   "name": "python3"
  },
  "language_info": {
   "codemirror_mode": {
    "name": "ipython",
    "version": 3
   },
   "file_extension": ".py",
   "mimetype": "text/x-python",
   "name": "python",
   "nbconvert_exporter": "python",
   "pygments_lexer": "ipython3",
   "version": "3.7.4"
  }
 },
 "nbformat": 4,
 "nbformat_minor": 4
}
